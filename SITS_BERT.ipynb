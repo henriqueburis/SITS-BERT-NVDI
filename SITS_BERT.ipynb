{
  "cells": [
    {
      "cell_type": "markdown",
      "metadata": {
        "id": "view-in-github",
        "colab_type": "text"
      },
      "source": [
        "<a href=\"https://colab.research.google.com/github/henriqueburis/SITS-BERT_BU_AGRO/blob/main/SITS_BERT.ipynb\" target=\"_parent\"><img src=\"https://colab.research.google.com/assets/colab-badge.svg\" alt=\"Open In Colab\"/></a>"
      ]
    },
    {
      "cell_type": "markdown",
      "metadata": {
        "id": "1hkBr_P87CYY"
      },
      "source": [
        "Artigo:https://ieeexplore.ieee.org/stamp/stamp.jsp?tp=&arnumber=9252123"
      ]
    },
    {
      "cell_type": "code",
      "execution_count": null,
      "metadata": {
        "id": "0gJarOEelcpI"
      },
      "outputs": [],
      "source": [
        "#!pip install colabcode"
      ]
    },
    {
      "cell_type": "code",
      "execution_count": null,
      "metadata": {
        "id": "qzG9DGqNlmHY"
      },
      "outputs": [],
      "source": [
        "#from colabcode import ColabCode\n",
        "#ColabCode(port=109493)"
      ]
    },
    {
      "cell_type": "code",
      "execution_count": null,
      "metadata": {
        "colab": {
          "base_uri": "https://localhost:8080/"
        },
        "id": "BU7tgzU44nLk",
        "outputId": "bce8777c-fe05-432e-8357-1ecf6dff8fde"
      },
      "outputs": [
        {
          "output_type": "stream",
          "name": "stdout",
          "text": [
            "Looking in indexes: https://pypi.org/simple, https://us-python.pkg.dev/colab-wheels/public/simple/\n",
            "Requirement already satisfied: google-cloud-storage in /usr/local/lib/python3.10/dist-packages (2.8.0)\n",
            "Requirement already satisfied: google-auth<3.0dev,>=1.25.0 in /usr/local/lib/python3.10/dist-packages (from google-cloud-storage) (2.17.3)\n",
            "Requirement already satisfied: google-api-core!=2.0.*,!=2.1.*,!=2.2.*,!=2.3.0,<3.0.0dev,>=1.31.5 in /usr/local/lib/python3.10/dist-packages (from google-cloud-storage) (2.11.0)\n",
            "Requirement already satisfied: google-cloud-core<3.0dev,>=2.3.0 in /usr/local/lib/python3.10/dist-packages (from google-cloud-storage) (2.3.2)\n",
            "Requirement already satisfied: google-resumable-media>=2.3.2 in /usr/local/lib/python3.10/dist-packages (from google-cloud-storage) (2.5.0)\n",
            "Requirement already satisfied: requests<3.0.0dev,>=2.18.0 in /usr/local/lib/python3.10/dist-packages (from google-cloud-storage) (2.27.1)\n",
            "Requirement already satisfied: googleapis-common-protos<2.0dev,>=1.56.2 in /usr/local/lib/python3.10/dist-packages (from google-api-core!=2.0.*,!=2.1.*,!=2.2.*,!=2.3.0,<3.0.0dev,>=1.31.5->google-cloud-storage) (1.59.0)\n",
            "Requirement already satisfied: protobuf!=3.20.0,!=3.20.1,!=4.21.0,!=4.21.1,!=4.21.2,!=4.21.3,!=4.21.4,!=4.21.5,<5.0.0dev,>=3.19.5 in /usr/local/lib/python3.10/dist-packages (from google-api-core!=2.0.*,!=2.1.*,!=2.2.*,!=2.3.0,<3.0.0dev,>=1.31.5->google-cloud-storage) (3.20.3)\n",
            "Requirement already satisfied: cachetools<6.0,>=2.0.0 in /usr/local/lib/python3.10/dist-packages (from google-auth<3.0dev,>=1.25.0->google-cloud-storage) (5.3.0)\n",
            "Requirement already satisfied: pyasn1-modules>=0.2.1 in /usr/local/lib/python3.10/dist-packages (from google-auth<3.0dev,>=1.25.0->google-cloud-storage) (0.3.0)\n",
            "Requirement already satisfied: six>=1.9.0 in /usr/local/lib/python3.10/dist-packages (from google-auth<3.0dev,>=1.25.0->google-cloud-storage) (1.16.0)\n",
            "Requirement already satisfied: rsa<5,>=3.1.4 in /usr/local/lib/python3.10/dist-packages (from google-auth<3.0dev,>=1.25.0->google-cloud-storage) (4.9)\n",
            "Requirement already satisfied: google-crc32c<2.0dev,>=1.0 in /usr/local/lib/python3.10/dist-packages (from google-resumable-media>=2.3.2->google-cloud-storage) (1.5.0)\n",
            "Requirement already satisfied: urllib3<1.27,>=1.21.1 in /usr/local/lib/python3.10/dist-packages (from requests<3.0.0dev,>=2.18.0->google-cloud-storage) (1.26.15)\n",
            "Requirement already satisfied: certifi>=2017.4.17 in /usr/local/lib/python3.10/dist-packages (from requests<3.0.0dev,>=2.18.0->google-cloud-storage) (2022.12.7)\n",
            "Requirement already satisfied: charset-normalizer~=2.0.0 in /usr/local/lib/python3.10/dist-packages (from requests<3.0.0dev,>=2.18.0->google-cloud-storage) (2.0.12)\n",
            "Requirement already satisfied: idna<4,>=2.5 in /usr/local/lib/python3.10/dist-packages (from requests<3.0.0dev,>=2.18.0->google-cloud-storage) (3.4)\n",
            "Requirement already satisfied: pyasn1<0.6.0,>=0.4.6 in /usr/local/lib/python3.10/dist-packages (from pyasn1-modules>=0.2.1->google-auth<3.0dev,>=1.25.0->google-cloud-storage) (0.5.0)\n"
          ]
        }
      ],
      "source": [
        "!pip install google-cloud-storage"
      ]
    },
    {
      "cell_type": "code",
      "execution_count": null,
      "metadata": {
        "colab": {
          "base_uri": "https://localhost:8080/"
        },
        "id": "vfJ_mpl8BLu_",
        "outputId": "431d4dd8-e181-45fd-f37a-496068176b6d"
      },
      "outputs": [
        {
          "output_type": "stream",
          "name": "stdout",
          "text": [
            "Cloning into 'SITS-BERT'...\n",
            "remote: Enumerating objects: 150, done.\u001b[K\n",
            "remote: Counting objects: 100% (150/150), done.\u001b[K\n",
            "remote: Compressing objects: 100% (134/134), done.\u001b[K\n",
            "remote: Total 150 (delta 23), reused 118 (delta 9), pack-reused 0\u001b[K\n",
            "Receiving objects: 100% (150/150), 8.70 MiB | 13.07 MiB/s, done.\n",
            "Resolving deltas: 100% (23/23), done.\n"
          ]
        }
      ],
      "source": [
        "#!git clone https://github.com/VSainteuf/lightweight-temporal-attention-pytorch.git\n",
        "#!git clone https://github.com/linlei1214/SITS-BERT.git\n",
        "\n",
        "#!git clone"
      ]
    },
    {
      "cell_type": "code",
      "source": [
        "!unzip /content/drive/MyDrive/California-Labeled.zip"
      ],
      "metadata": {
        "colab": {
          "base_uri": "https://localhost:8080/"
        },
        "id": "VFphDBqiYe7O",
        "outputId": "6b47f489-9f21-456f-d4c0-70f776e1e56c"
      },
      "execution_count": null,
      "outputs": [
        {
          "output_type": "stream",
          "name": "stdout",
          "text": [
            "Archive:  /content/drive/MyDrive/California-Labeled.zip\n",
            "   creating: California-Labeled/\n",
            "  inflating: California-Labeled/Test.csv  \n",
            "  inflating: California-Labeled/Train.csv  \n",
            "  inflating: California-Labeled/Validate.csv  \n"
          ]
        }
      ]
    },
    {
      "cell_type": "code",
      "execution_count": null,
      "metadata": {
        "id": "50WNieFgJuvD"
      },
      "outputs": [],
      "source": [
        "!mkdir /content/dataset_bert\n",
        "!mkdir /content/dataset_bert/data\n",
        "!mkdir /content/SITS-BERT/checkpoints/finetune"
      ]
    },
    {
      "cell_type": "code",
      "execution_count": null,
      "metadata": {
        "colab": {
          "base_uri": "https://localhost:8080/"
        },
        "id": "jWer1s1r7Yyb",
        "outputId": "ef91d73b-c732-440c-ade9-b6df5cd0f258"
      },
      "outputs": [
        {
          "output_type": "stream",
          "name": "stdout",
          "text": [
            "Client created using default project: \n",
            "95.csv \\\n"
          ]
        }
      ],
      "source": [
        "from google.colab import auth\n",
        "from google.cloud import storage\n",
        "\n",
        "auth.authenticate_user()\n",
        "client = storage.Client()\n",
        "print(\"Client created using default project: {}\".format(client.project))\n",
        "\n",
        "bucket_name = 'bayer_ia'\n",
        "\n",
        "path = \"/content/dataset_bert/data/\"\n",
        "file_erro = []\n",
        "\n",
        "with open('/content/cloud_bert.txt', 'r') as arquivo:\n",
        "    for linha in arquivo:\n",
        "      linha_buffer1 = linha.strip().replace(\"gs://bayer_ia/\",\"\").replace('\"','') #.replace('\\\\','')\n",
        "      linha_buffer2 = linha_buffer1.replace('sits_bert/samples/fine_tuning/crop_type_test_1/','')\n",
        "\n",
        "      try:\n",
        "        bucket = client.get_bucket(bucket_name)\n",
        "        blob = bucket.blob(linha_buffer1)\n",
        "        blob.download_to_filename(path+linha_buffer2)\n",
        "      except:\n",
        "        print(linha_buffer2)\n",
        "        file_erro.append(linha)\n",
        "      #break"
      ]
    },
    {
      "cell_type": "code",
      "source": [
        "import csv\n",
        "import glob\n",
        "import pandas as pd\n",
        "from random import shuffle\n",
        "import numpy as np\n",
        "\n",
        "#n+n+n = bigO 3n-n/3\n",
        "\n",
        "dados_combinados_buffer1 = []\n",
        "\n",
        "arquivos_csv = glob.glob('/content/dataset_bert/data/*.csv')\n",
        "\n",
        "for arquivo in arquivos_csv:\n",
        "    with open(arquivo, 'r', newline='') as arquivo_csv:\n",
        "        leitor_csv = csv.reader(arquivo_csv)\n",
        "        dados_csv = list(leitor_csv)\n",
        "        dados_combinados_buffer1.extend(dados_csv[1:])\n",
        "\n"
      ],
      "metadata": {
        "id": "u7iSYxu9TDYf"
      },
      "execution_count": null,
      "outputs": []
    },
    {
      "cell_type": "code",
      "source": [
        "label_= []\n",
        "\n",
        "for idx, line in enumerate(dados_combinados_buffer1):\n",
        "  line_buffer1 = line[0].replace(\"'\", \"\")\n",
        "  #print(line_buffer1[-1])\n",
        "  label_.append(line_buffer1[-1])\n",
        "  #break"
      ],
      "metadata": {
        "id": "ipRmidtsTaKn"
      },
      "execution_count": null,
      "outputs": []
    },
    {
      "cell_type": "code",
      "source": [
        "dados_int = [int(x) for x in label_]\n",
        "import matplotlib.pyplot as plt\n",
        "print(dados_int)\n",
        "#plt.bar(range(len(dados_int)), dados_int)\n",
        "#plt.xticks(range(len(dados_int)), range(1, len(dados_int) + 1))\n",
        "#plt.show()"
      ],
      "metadata": {
        "id": "V6KkKZLCVgOY"
      },
      "execution_count": null,
      "outputs": []
    },
    {
      "cell_type": "code",
      "execution_count": null,
      "metadata": {
        "colab": {
          "base_uri": "https://localhost:8080/"
        },
        "id": "JwanT6hAAbsa",
        "outputId": "17b14f3d-24b9-4639-ef36-0559fb2fb13c"
      },
      "outputs": [
        {
          "output_type": "stream",
          "name": "stdout",
          "text": [
            "Train:  62670\n",
            "Validate:  62671\n",
            "Test:  188010\n"
          ]
        }
      ],
      "source": [
        "import csv\n",
        "import glob\n",
        "import pandas as pd\n",
        "from random import shuffle\n",
        "import numpy as np\n",
        "\n",
        "#n+n+n = bigO 3n-n/3\n",
        "\n",
        "dados_combinados_buffer1 = []\n",
        "\n",
        "arquivos_csv = glob.glob('/content/dataset_bert/data/*.csv')\n",
        "\n",
        "for arquivo in arquivos_csv:\n",
        "    with open(arquivo, 'r', newline='') as arquivo_csv:\n",
        "        leitor_csv = csv.reader(arquivo_csv)\n",
        "        dados_csv = list(leitor_csv)\n",
        "        dados_combinados_buffer1.extend(dados_csv[1:])\n",
        "\n",
        "#sufler\n",
        "#shuffle(dados_combinados)\n",
        "\n",
        "max_length = 75\n",
        "dados_combinados_buffer2 = []\n",
        "\n",
        "for idx, line in enumerate(dados_combinados_buffer1):\n",
        "  line_buffer1 = line[0].replace(\"'\", \"\")\n",
        "  line_data = line_buffer1.split(',')\n",
        "  line_data = list(map(float, line_data))\n",
        "\n",
        "  ts = np.reshape(line_data[:-1], (10 + 1, -1)).T\n",
        "  ts_origin = np.zeros((max_length, 10))\n",
        "  if(ts.shape[0] < ts_origin.shape[0]):\n",
        "    dados_combinados_buffer2.append(dados_combinados_buffer1[idx])\n",
        "    #print(idx)\n",
        "    #dados_combinados.pop(idx)\n",
        "\n",
        "\n",
        "n = len(dados_combinados_buffer2)*20/100\n",
        "\n",
        "print(\"Train: \",int(n))\n",
        "print(\"Validate: \",(int(n)+1))\n",
        "print(\"Test: \", len(dados_combinados_buffer2) - (int(n)+int(n)+1))\n",
        "\n",
        "dataset = {}\n",
        "\n",
        "dataset['Train'] = dados_combinados_buffer2[0:int(n)]\n",
        "dataset['Validate'] = dados_combinados_buffer2[int(n)+1:int(n)+int(n)]\n",
        "dataset['Test'] = dados_combinados_buffer2[int(n)+int(n)+1:]\n",
        "\n",
        "arquivo_saida = ['Train.csv','Validate.csv','Test.csv']\n",
        "path = \"/content/dataset_bert/\"\n",
        "\n",
        "for item in arquivo_saida:\n",
        "  type_ = item.replace(\".csv\", \"\")\n",
        "  with open(path+item, 'w', newline='') as saida_csv:\n",
        "    escritor_csv = csv.writer(saida_csv)\n",
        "    escritor_csv.writerows(dataset[type_])\n",
        "  saida_csv.close()"
      ]
    },
    {
      "cell_type": "markdown",
      "metadata": {
        "id": "PRG8bv5DUsXV"
      },
      "source": [
        "Analise dos dados"
      ]
    },
    {
      "cell_type": "code",
      "execution_count": null,
      "metadata": {
        "id": "Wpdq8xh-oIH-"
      },
      "outputs": [],
      "source": [
        "import numpy as np\n",
        "\n",
        "result_model = list()\n",
        "result_model.append(\"==========threshold de 75 no parâmetro=================== \\n\")\n",
        "result_model.append(\"============================= \\n\")\n",
        "\n",
        "max_length = 75\n",
        "\n",
        "for idx, line in enumerate(dados_combinados_buffer2):\n",
        "  line_buffer1 = line[0].replace(\"'\", \"\")\n",
        "  #print(idx)\n",
        "  #print(len(line_buffer1[:-1].split(',')))\n",
        "  line_data = line_buffer1.split(',')\n",
        "  #print(line_data)\n",
        "  line_data = list(map(float, line_data))\n",
        "  #print(line_data)\n",
        "\n",
        "  ts = np.reshape(line_data[:-1], (10 + 1, -1)).T\n",
        "  ts_origin = np.zeros((max_length, 10))\n",
        "  if(ts.shape[0] > ts_origin.shape[0] ):\n",
        "    #print(\"Do arquivo: \",ts.shape, \" Parâmetro esperado: \",ts_origin.shape)\n",
        "    #print(dados_combinados[idx])\n",
        "    result_model.append(\"\\n\")\n",
        "    result_model.append(\"Do arquivo: \"+str(ts.shape)+\" Parâmetro esperado: \"+str(ts_origin.shape))\n",
        "    result_model.append(\"\\n\")\n",
        "    result_model.append(str(dados_combinados_buffer2[idx]))\n",
        "    result_model.append(\"\\n\")\n",
        "\n",
        "    #break\n",
        "\n",
        "arquivo = open(\"dadosAnalisados.txt\", \"a\")\n",
        "arquivo.writelines(result_model)\n",
        "arquivo.close()"
      ]
    },
    {
      "cell_type": "markdown",
      "metadata": {
        "id": "e3wxe7XIUmYm"
      },
      "source": [
        "Finetuning do modelo"
      ]
    },
    {
      "cell_type": "code",
      "execution_count": null,
      "metadata": {
        "colab": {
          "base_uri": "https://localhost:8080/"
        },
        "id": "APtqaBH5N3b9",
        "outputId": "d295989a-a8b7-4a11-c397-aad2ab8da548"
      },
      "outputs": [
        {
          "output_type": "stream",
          "name": "stdout",
          "text": [
            "2023-06-21 16:47:38.922710: I tensorflow/core/platform/cpu_feature_guard.cc:182] This TensorFlow binary is optimized to use available CPU instructions in performance-critical operations.\n",
            "To enable the following instructions: AVX2 AVX512F FMA, in other operations, rebuild TensorFlow with the appropriate compiler flags.\n",
            "2023-06-21 16:47:40.248215: W tensorflow/compiler/tf2tensorrt/utils/py_utils.cc:38] TF-TRT Warning: Could not find TensorRT\n",
            "Loading Data sets...\n",
            "training samples: 62670, validation samples: 62669, testing samples: 188010\n",
            "Creating Dataloader...\n",
            "Initialing SITS-BERT...\n",
            "Loading pre-trained model parameters...\n",
            "Creating Downstream Task Trainer...\n",
            "Fine-tuning SITS-BERT...\n",
            "EP0, train_OA=90.12, train_Kappa=0.842, validate_OA=89.94, validate_Kappa=0.831\n",
            "EP:0 Model Saved on: /content/SITS-BERT/checkpoints/finetune/checkpoint.tar\n",
            "EP1, train_OA=97.64, train_Kappa=0.963, validate_OA=89.26, validate_Kappa=0.823\n",
            "EP2, train_OA=99.19, train_Kappa=0.987, validate_OA=88.12, validate_Kappa=0.807\n",
            "EP3, train_OA=99.63, train_Kappa=0.994, validate_OA=89.18, validate_Kappa=0.822\n",
            "EP4, train_OA=99.79, train_Kappa=0.997, validate_OA=87.80, validate_Kappa=0.801\n",
            "EP5, train_OA=99.88, train_Kappa=0.998, validate_OA=87.89, validate_Kappa=0.802\n",
            "EP6, train_OA=99.85, train_Kappa=0.998, validate_OA=86.89, validate_Kappa=0.787\n",
            "EP7, train_OA=99.92, train_Kappa=0.999, validate_OA=87.03, validate_Kappa=0.789\n",
            "EP8, train_OA=99.92, train_Kappa=0.999, validate_OA=87.57, validate_Kappa=0.796\n",
            "EP9, train_OA=99.93, train_Kappa=0.999, validate_OA=87.39, validate_Kappa=0.795\n",
            "EP10, train_OA=99.91, train_Kappa=0.999, validate_OA=86.65, validate_Kappa=0.784\n",
            "EP11, train_OA=99.93, train_Kappa=0.999, validate_OA=86.03, validate_Kappa=0.774\n",
            "EP12, train_OA=99.96, train_Kappa=0.999, validate_OA=88.60, validate_Kappa=0.812\n",
            "EP13, train_OA=99.97, train_Kappa=1.000, validate_OA=88.30, validate_Kappa=0.808\n",
            "EP14, train_OA=99.93, train_Kappa=0.999, validate_OA=88.64, validate_Kappa=0.814\n",
            "EP15, train_OA=99.90, train_Kappa=0.998, validate_OA=85.83, validate_Kappa=0.773\n",
            "EP16, train_OA=99.99, train_Kappa=1.000, validate_OA=87.46, validate_Kappa=0.795\n",
            "EP17, train_OA=100.00, train_Kappa=1.000, validate_OA=88.09, validate_Kappa=0.806\n",
            "EP18, train_OA=99.97, train_Kappa=1.000, validate_OA=89.26, validate_Kappa=0.822\n",
            "EP19, train_OA=99.94, train_Kappa=0.999, validate_OA=87.51, validate_Kappa=0.796\n",
            "EP20, train_OA=99.94, train_Kappa=0.999, validate_OA=88.13, validate_Kappa=0.806\n",
            "EP21, train_OA=99.97, train_Kappa=0.999, validate_OA=88.26, validate_Kappa=0.809\n",
            "EP22, train_OA=99.90, train_Kappa=0.998, validate_OA=88.87, validate_Kappa=0.817\n",
            "EP23, train_OA=99.98, train_Kappa=1.000, validate_OA=89.63, validate_Kappa=0.828\n",
            "EP24, train_OA=100.00, train_Kappa=1.000, validate_OA=88.23, validate_Kappa=0.808\n",
            "EP25, train_OA=99.99, train_Kappa=1.000, validate_OA=88.51, validate_Kappa=0.811\n",
            "EP26, train_OA=99.94, train_Kappa=0.999, validate_OA=88.45, validate_Kappa=0.811\n",
            "EP27, train_OA=99.96, train_Kappa=0.999, validate_OA=87.96, validate_Kappa=0.803\n",
            "EP28, train_OA=99.98, train_Kappa=1.000, validate_OA=87.67, validate_Kappa=0.798\n",
            "EP29, train_OA=99.99, train_Kappa=1.000, validate_OA=88.71, validate_Kappa=0.813\n",
            "EP30, train_OA=99.97, train_Kappa=1.000, validate_OA=88.87, validate_Kappa=0.815\n",
            "EP31, train_OA=99.99, train_Kappa=1.000, validate_OA=87.56, validate_Kappa=0.797\n",
            "EP32, train_OA=99.99, train_Kappa=1.000, validate_OA=86.91, validate_Kappa=0.788\n",
            "EP33, train_OA=99.98, train_Kappa=1.000, validate_OA=88.46, validate_Kappa=0.811\n",
            "EP34, train_OA=99.94, train_Kappa=0.999, validate_OA=85.28, validate_Kappa=0.766\n",
            "EP35, train_OA=99.99, train_Kappa=1.000, validate_OA=88.19, validate_Kappa=0.807\n",
            "EP36, train_OA=99.98, train_Kappa=1.000, validate_OA=88.10, validate_Kappa=0.806\n",
            "EP37, train_OA=99.99, train_Kappa=1.000, validate_OA=88.43, validate_Kappa=0.810\n",
            "EP38, train_OA=99.97, train_Kappa=1.000, validate_OA=89.64, validate_Kappa=0.827\n",
            "EP39, train_OA=99.96, train_Kappa=0.999, validate_OA=89.54, validate_Kappa=0.826\n",
            "EP40, train_OA=99.98, train_Kappa=1.000, validate_OA=88.00, validate_Kappa=0.804\n",
            "EP41, train_OA=99.96, train_Kappa=0.999, validate_OA=87.67, validate_Kappa=0.800\n",
            "EP42, train_OA=99.97, train_Kappa=1.000, validate_OA=88.06, validate_Kappa=0.805\n",
            "EP43, train_OA=99.97, train_Kappa=1.000, validate_OA=89.36, validate_Kappa=0.825\n",
            "EP44, train_OA=100.00, train_Kappa=1.000, validate_OA=89.80, validate_Kappa=0.831\n",
            "EP45, train_OA=100.00, train_Kappa=1.000, validate_OA=88.84, validate_Kappa=0.817\n",
            "EP46, train_OA=99.97, train_Kappa=1.000, validate_OA=87.49, validate_Kappa=0.797\n",
            "EP47, train_OA=99.95, train_Kappa=0.999, validate_OA=88.36, validate_Kappa=0.809\n",
            "EP48, train_OA=100.00, train_Kappa=1.000, validate_OA=88.83, validate_Kappa=0.815\n",
            "EP49, train_OA=100.00, train_Kappa=1.000, validate_OA=89.13, validate_Kappa=0.821\n",
            "EP50, train_OA=99.98, train_Kappa=1.000, validate_OA=89.22, validate_Kappa=0.822\n",
            "EP51, train_OA=99.96, train_Kappa=0.999, validate_OA=89.71, validate_Kappa=0.828\n",
            "EP52, train_OA=100.00, train_Kappa=1.000, validate_OA=88.07, validate_Kappa=0.804\n",
            "EP53, train_OA=99.98, train_Kappa=1.000, validate_OA=89.47, validate_Kappa=0.825\n",
            "EP54, train_OA=99.99, train_Kappa=1.000, validate_OA=89.02, validate_Kappa=0.818\n",
            "EP55, train_OA=99.98, train_Kappa=1.000, validate_OA=89.25, validate_Kappa=0.823\n",
            "EP56, train_OA=99.99, train_Kappa=1.000, validate_OA=89.60, validate_Kappa=0.827\n",
            "EP57, train_OA=99.99, train_Kappa=1.000, validate_OA=89.43, validate_Kappa=0.825\n",
            "EP58, train_OA=99.98, train_Kappa=1.000, validate_OA=90.38, validate_Kappa=0.838\n",
            "EP:58 Model Saved on: /content/SITS-BERT/checkpoints/finetune/checkpoint.tar\n",
            "EP59, train_OA=100.00, train_Kappa=1.000, validate_OA=90.15, validate_Kappa=0.835\n",
            "EP60, train_OA=99.98, train_Kappa=1.000, validate_OA=88.56, validate_Kappa=0.812\n",
            "EP61, train_OA=99.98, train_Kappa=1.000, validate_OA=89.25, validate_Kappa=0.823\n",
            "EP62, train_OA=99.99, train_Kappa=1.000, validate_OA=87.23, validate_Kappa=0.792\n",
            "EP63, train_OA=99.99, train_Kappa=1.000, validate_OA=88.86, validate_Kappa=0.816\n",
            "EP64, train_OA=99.97, train_Kappa=1.000, validate_OA=87.49, validate_Kappa=0.795\n",
            "EP65, train_OA=99.98, train_Kappa=1.000, validate_OA=88.95, validate_Kappa=0.817\n",
            "EP66, train_OA=100.00, train_Kappa=1.000, validate_OA=89.54, validate_Kappa=0.826\n",
            "EP67, train_OA=99.99, train_Kappa=1.000, validate_OA=89.26, validate_Kappa=0.823\n",
            "EP68, train_OA=100.00, train_Kappa=1.000, validate_OA=88.96, validate_Kappa=0.818\n",
            "EP69, train_OA=100.00, train_Kappa=1.000, validate_OA=88.88, validate_Kappa=0.817\n",
            "EP70, train_OA=99.97, train_Kappa=0.999, validate_OA=88.76, validate_Kappa=0.815\n",
            "EP71, train_OA=99.98, train_Kappa=1.000, validate_OA=89.82, validate_Kappa=0.831\n",
            "EP72, train_OA=100.00, train_Kappa=1.000, validate_OA=89.38, validate_Kappa=0.825\n",
            "EP73, train_OA=100.00, train_Kappa=1.000, validate_OA=88.75, validate_Kappa=0.815\n",
            "EP74, train_OA=99.98, train_Kappa=1.000, validate_OA=88.96, validate_Kappa=0.816\n",
            "EP75, train_OA=99.97, train_Kappa=0.999, validate_OA=89.43, validate_Kappa=0.823\n",
            "EP76, train_OA=99.99, train_Kappa=1.000, validate_OA=88.79, validate_Kappa=0.816\n",
            "EP77, train_OA=100.00, train_Kappa=1.000, validate_OA=89.18, validate_Kappa=0.821\n",
            "EP78, train_OA=99.99, train_Kappa=1.000, validate_OA=89.29, validate_Kappa=0.822\n",
            "EP79, train_OA=100.00, train_Kappa=1.000, validate_OA=88.65, validate_Kappa=0.813\n",
            "EP80, train_OA=99.97, train_Kappa=0.999, validate_OA=89.69, validate_Kappa=0.829\n",
            "EP81, train_OA=99.99, train_Kappa=1.000, validate_OA=89.45, validate_Kappa=0.824\n",
            "EP82, train_OA=99.97, train_Kappa=1.000, validate_OA=88.26, validate_Kappa=0.809\n",
            "EP83, train_OA=100.00, train_Kappa=1.000, validate_OA=90.17, validate_Kappa=0.836\n",
            "EP84, train_OA=99.99, train_Kappa=1.000, validate_OA=89.27, validate_Kappa=0.823\n",
            "EP85, train_OA=100.00, train_Kappa=1.000, validate_OA=89.70, validate_Kappa=0.829\n",
            "EP86, train_OA=100.00, train_Kappa=1.000, validate_OA=89.51, validate_Kappa=0.826\n",
            "EP87, train_OA=100.00, train_Kappa=1.000, validate_OA=89.56, validate_Kappa=0.827\n",
            "EP88, train_OA=100.00, train_Kappa=1.000, validate_OA=89.50, validate_Kappa=0.826\n",
            "EP89, train_OA=99.99, train_Kappa=1.000, validate_OA=87.79, validate_Kappa=0.801\n",
            "EP90, train_OA=99.95, train_Kappa=0.999, validate_OA=87.69, validate_Kappa=0.800\n",
            "EP91, train_OA=99.98, train_Kappa=1.000, validate_OA=88.65, validate_Kappa=0.816\n",
            "EP92, train_OA=100.00, train_Kappa=1.000, validate_OA=88.80, validate_Kappa=0.817\n",
            "EP93, train_OA=100.00, train_Kappa=1.000, validate_OA=89.63, validate_Kappa=0.830\n",
            "EP94, train_OA=100.00, train_Kappa=1.000, validate_OA=90.08, validate_Kappa=0.835\n",
            "EP95, train_OA=100.00, train_Kappa=1.000, validate_OA=89.93, validate_Kappa=0.834\n",
            "EP96, train_OA=100.00, train_Kappa=1.000, validate_OA=89.32, validate_Kappa=0.824\n",
            "EP97, train_OA=99.97, train_Kappa=1.000, validate_OA=88.15, validate_Kappa=0.806\n",
            "EP98, train_OA=99.98, train_Kappa=1.000, validate_OA=89.32, validate_Kappa=0.825\n",
            "EP99, train_OA=99.98, train_Kappa=1.000, validate_OA=87.19, validate_Kappa=0.793\n",
            "\n",
            "\n",
            "\n",
            "\n",
            "Testing SITS-BERT...\n",
            "EP:58 Model loaded from: /content/SITS-BERT/checkpoints/finetune/checkpoint.tar\n",
            "/content/SITS-BERT/code/trainer/finetune.py:26: RuntimeWarning: invalid value encountered in true_divide\n",
            "  accuracy = correct / all\n",
            "test_OA = 88.89, test_kappa = 0.816, test_AA = nan\n",
            "Accuracy =  0.8889420775490665\n",
            "Recall =  [0.98576192 0.96502759 0.82385098 0.         0.         0.03246753\n",
            " 0.         0.         0.16515232 0.50375417]\n",
            "/usr/local/lib/python3.10/dist-packages/sklearn/metrics/_classification.py:1344: UndefinedMetricWarning: Precision is ill-defined and being set to 0.0 in labels with no predicted samples. Use `zero_division` parameter to control this behavior.\n",
            "  _warn_prf(average, modifier, msg_start, len(result))\n",
            "Precision =  [0.97694239 0.86522139 0.91110614 0.         0.         0.26086957\n",
            " 0.         0.         0.31191117 0.54678539]\n",
            "F1 =  [0.98133234 0.9124032  0.86528442 0.         0.         0.05774783\n",
            " 0.         0.         0.21595807 0.52438848]\n",
            "[[89866   737     0     0     0     1   184     0   315    61]\n",
            " [  276 67688   177     0     0    34    23    55  1650   238]\n",
            " [    2   568  4069     0     0     0     0    26   130   144]\n",
            " [  231     0     0     0     0     0     0     0     0     0]\n",
            " [    0     1     0     0     0     0     0     0    68     0]\n",
            " [    0    58     0     0     0    30     0     0   403   433]\n",
            " [  670   191    38     0     0     4     0    18   290   303]\n",
            " [    0   508     0     0     0     0     0     0    71    31]\n",
            " [  251  7054   168     0     0    12    19    75  1854  1793]\n",
            " [  691  1427    14     0     0    34    58   182  1163  3623]]\n"
          ]
        }
      ],
      "source": [
        "#train original\n",
        "!python /content/SITS-BERT/code/finetuning.py \\\n",
        "    --file_path '/content/dataset_bert/' \\\n",
        "    --pretrain_path '/content/SITS-BERT/checkpoints/pretrain/' \\\n",
        "    --finetune_path '/content/SITS-BERT/checkpoints/finetune/' \\\n",
        "    --max_length 75 \\\n",
        "    --num_features 10 \\\n",
        "    --num_classes 11 \\\n",
        "    --epochs 100 \\\n",
        "    --batch_size 128 \\\n",
        "    --hidden_size 256 \\\n",
        "    --layers 3 \\\n",
        "    --attn_heads 8 \\\n",
        "    --learning_rate 2e-4 \\\n",
        "    --dropout 0.1"
      ]
    },
    {
      "cell_type": "code",
      "source": [
        "#train original\n",
        "!python /content/SITS-BERT/code/finetuning.py \\\n",
        "    --file_path '/content/California-Labeled/' \\\n",
        "    --pretrain_path '/content/SITS-BERT/checkpoints/pretrain/' \\\n",
        "    --finetune_path '/content/SITS-BERT/checkpoints/finetune/' \\\n",
        "    --max_length 64 \\\n",
        "    --num_features 10 \\\n",
        "    --num_classes 13 \\\n",
        "    --epochs 100 \\\n",
        "    --batch_size 128 \\\n",
        "    --hidden_size 256 \\\n",
        "    --layers 3 \\\n",
        "    --attn_heads 8 \\\n",
        "    --learning_rate 2e-4 \\\n",
        "    --dropout 0.1"
      ],
      "metadata": {
        "colab": {
          "base_uri": "https://localhost:8080/"
        },
        "id": "WMbkxNR6Ynus",
        "outputId": "5bed5af7-bee2-42eb-a0b9-31327a6d4c05"
      },
      "execution_count": null,
      "outputs": [
        {
          "output_type": "stream",
          "name": "stdout",
          "text": [
            "2023-06-21 19:17:33.534355: I tensorflow/core/platform/cpu_feature_guard.cc:182] This TensorFlow binary is optimized to use available CPU instructions in performance-critical operations.\n",
            "To enable the following instructions: AVX2 AVX512F FMA, in other operations, rebuild TensorFlow with the appropriate compiler flags.\n",
            "2023-06-21 19:17:34.422017: W tensorflow/compiler/tf2tensorrt/utils/py_utils.cc:38] TF-TRT Warning: Could not find TensorRT\n",
            "Loading Data sets...\n",
            "training samples: 1300, validation samples: 1300, testing samples: 318588\n",
            "Creating Dataloader...\n",
            "Initialing SITS-BERT...\n",
            "Loading pre-trained model parameters...\n",
            "Creating Downstream Task Trainer...\n",
            "Fine-tuning SITS-BERT...\n",
            "EP0, train_OA=26.38, train_Kappa=0.202, validate_OA=43.77, validate_Kappa=0.391\n",
            "EP:0 Model Saved on: /content/SITS-BERT/checkpoints/finetune/checkpoint.tar\n",
            "EP1, train_OA=50.77, train_Kappa=0.467, validate_OA=74.38, validate_Kappa=0.723\n",
            "EP:1 Model Saved on: /content/SITS-BERT/checkpoints/finetune/checkpoint.tar\n",
            "EP2, train_OA=76.92, train_Kappa=0.750, validate_OA=84.00, validate_Kappa=0.827\n",
            "EP:2 Model Saved on: /content/SITS-BERT/checkpoints/finetune/checkpoint.tar\n",
            "EP3, train_OA=83.85, train_Kappa=0.825, validate_OA=87.38, validate_Kappa=0.863\n",
            "EP:3 Model Saved on: /content/SITS-BERT/checkpoints/finetune/checkpoint.tar\n",
            "EP4, train_OA=87.15, train_Kappa=0.861, validate_OA=88.85, validate_Kappa=0.879\n",
            "EP:4 Model Saved on: /content/SITS-BERT/checkpoints/finetune/checkpoint.tar\n",
            "EP5, train_OA=89.77, train_Kappa=0.889, validate_OA=89.38, validate_Kappa=0.885\n",
            "EP:5 Model Saved on: /content/SITS-BERT/checkpoints/finetune/checkpoint.tar\n",
            "EP6, train_OA=91.08, train_Kappa=0.903, validate_OA=90.46, validate_Kappa=0.897\n",
            "EP:6 Model Saved on: /content/SITS-BERT/checkpoints/finetune/checkpoint.tar\n",
            "EP7, train_OA=91.69, train_Kappa=0.910, validate_OA=91.38, validate_Kappa=0.907\n",
            "EP:7 Model Saved on: /content/SITS-BERT/checkpoints/finetune/checkpoint.tar\n",
            "EP8, train_OA=93.15, train_Kappa=0.926, validate_OA=91.69, validate_Kappa=0.910\n",
            "EP:8 Model Saved on: /content/SITS-BERT/checkpoints/finetune/checkpoint.tar\n",
            "EP9, train_OA=93.92, train_Kappa=0.934, validate_OA=92.38, validate_Kappa=0.917\n",
            "EP:9 Model Saved on: /content/SITS-BERT/checkpoints/finetune/checkpoint.tar\n",
            "EP10, train_OA=94.00, train_Kappa=0.935, validate_OA=92.77, validate_Kappa=0.922\n",
            "EP:10 Model Saved on: /content/SITS-BERT/checkpoints/finetune/checkpoint.tar\n",
            "EP11, train_OA=95.08, train_Kappa=0.947, validate_OA=93.31, validate_Kappa=0.927\n",
            "EP:11 Model Saved on: /content/SITS-BERT/checkpoints/finetune/checkpoint.tar\n",
            "EP12, train_OA=95.00, train_Kappa=0.946, validate_OA=93.31, validate_Kappa=0.927\n",
            "EP13, train_OA=95.46, train_Kappa=0.951, validate_OA=93.85, validate_Kappa=0.933\n",
            "EP:13 Model Saved on: /content/SITS-BERT/checkpoints/finetune/checkpoint.tar\n",
            "EP14, train_OA=95.85, train_Kappa=0.955, validate_OA=94.08, validate_Kappa=0.936\n",
            "EP:14 Model Saved on: /content/SITS-BERT/checkpoints/finetune/checkpoint.tar\n",
            "EP15, train_OA=96.38, train_Kappa=0.961, validate_OA=94.15, validate_Kappa=0.937\n",
            "EP:15 Model Saved on: /content/SITS-BERT/checkpoints/finetune/checkpoint.tar\n",
            "EP16, train_OA=96.46, train_Kappa=0.962, validate_OA=94.15, validate_Kappa=0.937\n",
            "EP17, train_OA=97.00, train_Kappa=0.968, validate_OA=94.46, validate_Kappa=0.940\n",
            "EP:17 Model Saved on: /content/SITS-BERT/checkpoints/finetune/checkpoint.tar\n",
            "EP18, train_OA=96.77, train_Kappa=0.965, validate_OA=94.46, validate_Kappa=0.940\n",
            "EP19, train_OA=96.85, train_Kappa=0.966, validate_OA=94.69, validate_Kappa=0.943\n",
            "EP:19 Model Saved on: /content/SITS-BERT/checkpoints/finetune/checkpoint.tar\n",
            "EP20, train_OA=97.08, train_Kappa=0.968, validate_OA=94.54, validate_Kappa=0.941\n",
            "EP21, train_OA=97.38, train_Kappa=0.972, validate_OA=94.92, validate_Kappa=0.945\n",
            "EP:21 Model Saved on: /content/SITS-BERT/checkpoints/finetune/checkpoint.tar\n",
            "EP22, train_OA=97.54, train_Kappa=0.973, validate_OA=94.69, validate_Kappa=0.943\n",
            "EP23, train_OA=97.62, train_Kappa=0.974, validate_OA=94.77, validate_Kappa=0.943\n",
            "EP24, train_OA=97.54, train_Kappa=0.973, validate_OA=94.92, validate_Kappa=0.945\n",
            "EP25, train_OA=97.62, train_Kappa=0.974, validate_OA=95.31, validate_Kappa=0.949\n",
            "EP:25 Model Saved on: /content/SITS-BERT/checkpoints/finetune/checkpoint.tar\n",
            "EP26, train_OA=98.23, train_Kappa=0.981, validate_OA=95.00, validate_Kappa=0.946\n",
            "EP27, train_OA=98.38, train_Kappa=0.982, validate_OA=95.38, validate_Kappa=0.950\n",
            "EP:27 Model Saved on: /content/SITS-BERT/checkpoints/finetune/checkpoint.tar\n",
            "EP28, train_OA=98.23, train_Kappa=0.981, validate_OA=95.08, validate_Kappa=0.947\n",
            "EP29, train_OA=98.15, train_Kappa=0.980, validate_OA=95.62, validate_Kappa=0.953\n",
            "EP:29 Model Saved on: /content/SITS-BERT/checkpoints/finetune/checkpoint.tar\n",
            "EP30, train_OA=98.23, train_Kappa=0.981, validate_OA=95.38, validate_Kappa=0.950\n",
            "EP31, train_OA=98.62, train_Kappa=0.985, validate_OA=95.23, validate_Kappa=0.948\n",
            "EP32, train_OA=98.62, train_Kappa=0.985, validate_OA=95.15, validate_Kappa=0.947\n",
            "EP33, train_OA=99.00, train_Kappa=0.989, validate_OA=95.08, validate_Kappa=0.947\n",
            "EP34, train_OA=99.31, train_Kappa=0.992, validate_OA=94.92, validate_Kappa=0.945\n",
            "EP35, train_OA=99.15, train_Kappa=0.991, validate_OA=95.38, validate_Kappa=0.950\n",
            "EP36, train_OA=98.85, train_Kappa=0.988, validate_OA=95.38, validate_Kappa=0.950\n",
            "EP37, train_OA=99.38, train_Kappa=0.993, validate_OA=95.23, validate_Kappa=0.948\n",
            "EP38, train_OA=99.38, train_Kappa=0.993, validate_OA=95.85, validate_Kappa=0.955\n",
            "EP:38 Model Saved on: /content/SITS-BERT/checkpoints/finetune/checkpoint.tar\n",
            "EP39, train_OA=99.46, train_Kappa=0.994, validate_OA=95.23, validate_Kappa=0.948\n",
            "EP40, train_OA=99.46, train_Kappa=0.994, validate_OA=95.62, validate_Kappa=0.953\n",
            "EP41, train_OA=99.00, train_Kappa=0.989, validate_OA=95.31, validate_Kappa=0.949\n",
            "EP42, train_OA=99.00, train_Kappa=0.989, validate_OA=95.62, validate_Kappa=0.953\n",
            "EP43, train_OA=99.77, train_Kappa=0.997, validate_OA=95.62, validate_Kappa=0.953\n",
            "EP44, train_OA=99.46, train_Kappa=0.994, validate_OA=95.46, validate_Kappa=0.951\n",
            "EP45, train_OA=99.54, train_Kappa=0.995, validate_OA=95.54, validate_Kappa=0.952\n",
            "EP46, train_OA=99.62, train_Kappa=0.996, validate_OA=95.69, validate_Kappa=0.953\n",
            "EP47, train_OA=99.92, train_Kappa=0.999, validate_OA=95.62, validate_Kappa=0.953\n",
            "EP48, train_OA=99.69, train_Kappa=0.997, validate_OA=95.62, validate_Kappa=0.953\n",
            "EP49, train_OA=99.92, train_Kappa=0.999, validate_OA=95.69, validate_Kappa=0.953\n",
            "EP50, train_OA=99.69, train_Kappa=0.997, validate_OA=95.69, validate_Kappa=0.953\n",
            "EP51, train_OA=99.77, train_Kappa=0.997, validate_OA=96.00, validate_Kappa=0.957\n",
            "EP:51 Model Saved on: /content/SITS-BERT/checkpoints/finetune/checkpoint.tar\n",
            "EP52, train_OA=99.54, train_Kappa=0.995, validate_OA=95.54, validate_Kappa=0.952\n",
            "EP53, train_OA=99.62, train_Kappa=0.996, validate_OA=95.54, validate_Kappa=0.952\n",
            "EP54, train_OA=99.85, train_Kappa=0.998, validate_OA=95.85, validate_Kappa=0.955\n",
            "EP55, train_OA=99.92, train_Kappa=0.999, validate_OA=95.62, validate_Kappa=0.953\n",
            "EP56, train_OA=99.92, train_Kappa=0.999, validate_OA=95.69, validate_Kappa=0.953\n",
            "EP57, train_OA=99.92, train_Kappa=0.999, validate_OA=96.00, validate_Kappa=0.957\n",
            "EP58, train_OA=99.92, train_Kappa=0.999, validate_OA=95.92, validate_Kappa=0.956\n",
            "EP59, train_OA=99.92, train_Kappa=0.999, validate_OA=95.92, validate_Kappa=0.956\n",
            "EP60, train_OA=100.00, train_Kappa=1.000, validate_OA=95.92, validate_Kappa=0.956\n",
            "EP61, train_OA=100.00, train_Kappa=1.000, validate_OA=95.92, validate_Kappa=0.956\n",
            "EP62, train_OA=100.00, train_Kappa=1.000, validate_OA=96.00, validate_Kappa=0.957\n",
            "EP63, train_OA=100.00, train_Kappa=1.000, validate_OA=95.85, validate_Kappa=0.955\n",
            "EP64, train_OA=100.00, train_Kappa=1.000, validate_OA=95.92, validate_Kappa=0.956\n",
            "EP65, train_OA=99.92, train_Kappa=0.999, validate_OA=95.46, validate_Kappa=0.951\n",
            "EP66, train_OA=99.92, train_Kappa=0.999, validate_OA=96.00, validate_Kappa=0.957\n",
            "EP67, train_OA=100.00, train_Kappa=1.000, validate_OA=95.77, validate_Kappa=0.954\n",
            "EP68, train_OA=100.00, train_Kappa=1.000, validate_OA=95.85, validate_Kappa=0.955\n",
            "EP69, train_OA=99.92, train_Kappa=0.999, validate_OA=95.92, validate_Kappa=0.956\n",
            "EP70, train_OA=99.92, train_Kappa=0.999, validate_OA=95.92, validate_Kappa=0.956\n",
            "EP71, train_OA=100.00, train_Kappa=1.000, validate_OA=95.62, validate_Kappa=0.953\n",
            "EP72, train_OA=100.00, train_Kappa=1.000, validate_OA=96.00, validate_Kappa=0.957\n",
            "EP73, train_OA=100.00, train_Kappa=1.000, validate_OA=95.92, validate_Kappa=0.956\n",
            "EP74, train_OA=100.00, train_Kappa=1.000, validate_OA=95.85, validate_Kappa=0.955\n",
            "EP75, train_OA=100.00, train_Kappa=1.000, validate_OA=95.92, validate_Kappa=0.956\n",
            "EP76, train_OA=99.92, train_Kappa=0.999, validate_OA=95.85, validate_Kappa=0.955\n",
            "EP77, train_OA=100.00, train_Kappa=1.000, validate_OA=95.77, validate_Kappa=0.954\n",
            "EP78, train_OA=100.00, train_Kappa=1.000, validate_OA=95.77, validate_Kappa=0.954\n",
            "EP79, train_OA=100.00, train_Kappa=1.000, validate_OA=95.92, validate_Kappa=0.956\n",
            "EP80, train_OA=100.00, train_Kappa=1.000, validate_OA=95.92, validate_Kappa=0.956\n",
            "EP81, train_OA=100.00, train_Kappa=1.000, validate_OA=95.54, validate_Kappa=0.952\n",
            "EP82, train_OA=100.00, train_Kappa=1.000, validate_OA=95.77, validate_Kappa=0.954\n",
            "EP83, train_OA=100.00, train_Kappa=1.000, validate_OA=95.85, validate_Kappa=0.955\n",
            "EP84, train_OA=100.00, train_Kappa=1.000, validate_OA=96.00, validate_Kappa=0.957\n",
            "EP85, train_OA=100.00, train_Kappa=1.000, validate_OA=96.15, validate_Kappa=0.958\n",
            "EP:85 Model Saved on: /content/SITS-BERT/checkpoints/finetune/checkpoint.tar\n",
            "EP86, train_OA=99.92, train_Kappa=0.999, validate_OA=95.92, validate_Kappa=0.956\n",
            "EP87, train_OA=100.00, train_Kappa=1.000, validate_OA=95.92, validate_Kappa=0.956\n",
            "EP88, train_OA=99.92, train_Kappa=0.999, validate_OA=95.85, validate_Kappa=0.955\n",
            "EP89, train_OA=100.00, train_Kappa=1.000, validate_OA=95.92, validate_Kappa=0.956\n",
            "EP90, train_OA=100.00, train_Kappa=1.000, validate_OA=95.92, validate_Kappa=0.956\n",
            "EP91, train_OA=100.00, train_Kappa=1.000, validate_OA=95.92, validate_Kappa=0.956\n",
            "EP92, train_OA=100.00, train_Kappa=1.000, validate_OA=96.00, validate_Kappa=0.957\n",
            "EP93, train_OA=100.00, train_Kappa=1.000, validate_OA=96.15, validate_Kappa=0.958\n",
            "EP94, train_OA=100.00, train_Kappa=1.000, validate_OA=96.00, validate_Kappa=0.957\n",
            "EP95, train_OA=100.00, train_Kappa=1.000, validate_OA=96.00, validate_Kappa=0.957\n",
            "EP96, train_OA=100.00, train_Kappa=1.000, validate_OA=96.08, validate_Kappa=0.958\n",
            "EP97, train_OA=100.00, train_Kappa=1.000, validate_OA=96.08, validate_Kappa=0.958\n",
            "EP98, train_OA=100.00, train_Kappa=1.000, validate_OA=96.08, validate_Kappa=0.958\n",
            "EP99, train_OA=100.00, train_Kappa=1.000, validate_OA=95.77, validate_Kappa=0.954\n",
            "\n",
            "\n",
            "\n",
            "\n",
            "Testing SITS-BERT...\n",
            "EP:85 Model loaded from: /content/SITS-BERT/checkpoints/finetune/checkpoint.tar\n",
            "test_OA = 94.24, test_kappa = 0.932, test_AA = 0.952\n",
            "Accuracy =  0.9423612942107047\n",
            "Recall =  [0.98080967 0.97744949 0.98348624 0.96820078 0.99946938 0.89575324\n",
            " 0.92445277 0.9030896  0.95004181 0.86854742 0.99932615 0.97868336\n",
            " 0.95187011]\n",
            "Precision =  [0.90712375 0.97560274 0.71324019 0.94937303 0.93890194 0.93910388\n",
            " 0.9296788  0.95943008 0.80891077 0.41437572 0.94699872 0.99007508\n",
            " 0.94249706]\n",
            "F1 =  [0.94252874 0.97652524 0.8268415  0.95869447 0.9682394  0.91691646\n",
            " 0.92705842 0.9304077  0.87381441 0.56107018 0.97245902 0.98434626\n",
            " 0.94716039]\n",
            "[[ 3731     0    60     0     0     2     1     0    10     0     0     0\n",
            "      0]\n",
            " [    0 23753     9     8   523     1     0     0     0     0     0     0\n",
            "      7]\n",
            " [    8     2  2144     0    14     1     0     0     1     5     0     1\n",
            "      4]\n",
            " [   32    28    83 14158    67    40     0     6    27   119     0     5\n",
            "     58]\n",
            " [    0     2     4     0 13185     0     0     0     0     1     0     0\n",
            "      0]\n",
            " [  153   408   183   413   230 59650   534  1820  1310   361     5   223\n",
            "   1302]\n",
            " [    0    17    37     1     4   131 10854    46    76   148    67   240\n",
            "    120]\n",
            " [  129    40   137    76     5  2451   138 48551  1481   307    11    64\n",
            "    371]\n",
            " [   59    32    55    47    11   252    47    31 13635    44    10    59\n",
            "     70]\n",
            " [    0     2    24     3     2    32     6     3    10  1447     3   126\n",
            "      8]\n",
            " [    0     0     0     0     0     0     0     0     0     0  2966     2\n",
            "      0]\n",
            " [    1     6   189    28     0   126    55    64    65   930    70 73321\n",
            "     63]\n",
            " [    0    57    81   179     2   832    40    83   241   130     0    15\n",
            "  32830]]\n"
          ]
        }
      ]
    },
    {
      "cell_type": "code",
      "execution_count": null,
      "metadata": {
        "id": "ZROAIpckqMlG"
      },
      "outputs": [],
      "source": [
        "!python /content/SITS-BERT/code/inference.py \\\n",
        "    --file_path '/content/dataset_bert/data/' \\\n",
        "    --pretrain_path '/content/SITS-BERT/checkpoints/pretrain/' \\\n",
        "    --finetune_path '/content/SITS-BERT/checkpoints/finetune/' \\\n",
        "    --max_length 75 \\\n",
        "    --num_features 10 \\\n",
        "    --num_classes 11 \\\n",
        "    --epochs 100 \\\n",
        "    --batch_size 128 \\\n",
        "    --hidden_size 256 \\\n",
        "    --layers 3 \\\n",
        "    --attn_heads 8 \\\n",
        "    --learning_rate 2e-4 \\\n",
        "    --dropout 0.1"
      ]
    },
    {
      "cell_type": "markdown",
      "metadata": {
        "id": "9AB2eG9MWNI6"
      },
      "source": [
        "## Test"
      ]
    },
    {
      "cell_type": "code",
      "execution_count": null,
      "metadata": {
        "id": "4wmk0HMRb6cK"
      },
      "outputs": [],
      "source": [
        "#train original --max_length 64 orig .... opt 69 79 128\n",
        "!python /content/SITS-BERT/code/finetuning.py \\\n",
        "    --file_path '/content/California-Labeled/' \\\n",
        "    --pretrain_path '/content/SITS-BERT/checkpoints/pretrain/' \\\n",
        "    --finetune_path '/content/SITS-BERT/checkpoints/finetune/' \\\n",
        "    --max_length 128 \\\n",
        "    --num_features 10 \\\n",
        "    --num_classes 13 \\\n",
        "    --epochs 10 \\\n",
        "    --batch_size 128 \\\n",
        "    --hidden_size 256 \\\n",
        "    --layers 3 \\\n",
        "    --attn_heads 8 \\\n",
        "    --learning_rate 2e-4 \\\n",
        "    --dropout 0.1"
      ]
    },
    {
      "cell_type": "code",
      "execution_count": null,
      "metadata": {
        "colab": {
          "background_save": true
        },
        "id": "UD2J1V4vJWpv"
      },
      "outputs": [],
      "source": [
        "#train original --max_length 64 orig .... opt 69 79 128\n",
        "!python /content/SITS-BERT/code/finetuning.py \\\n",
        "    --file_path '/content/dataset_/' \\\n",
        "    --pretrain_path '/content/SITS-BERT/checkpoints/pretrain/' \\\n",
        "    --finetune_path '/content/SITS-BERT/checkpoints/finetune/' \\\n",
        "    --max_length 64 \\\n",
        "    --num_features 10 \\\n",
        "    --num_classes 7 \\\n",
        "    --epochs 10 \\\n",
        "    --batch_size 128 \\\n",
        "    --hidden_size 256 \\\n",
        "    --layers 3 \\\n",
        "    --attn_heads 8 \\\n",
        "    --learning_rate 2e-4 \\\n",
        "    --dropout 0.1"
      ]
    },
    {
      "cell_type": "code",
      "execution_count": null,
      "metadata": {
        "colab": {
          "base_uri": "https://localhost:8080/"
        },
        "id": "XeN0sxW_PKZx",
        "outputId": "d55e22d2-8da7-4597-ae67-1540f0348dd2"
      },
      "outputs": [
        {
          "name": "stdout",
          "output_type": "stream",
          "text": [
            "2023-06-09 19:47:58.025448: I tensorflow/core/platform/cpu_feature_guard.cc:182] This TensorFlow binary is optimized to use available CPU instructions in performance-critical operations.\n",
            "To enable the following instructions: AVX2 AVX512F FMA, in other operations, rebuild TensorFlow with the appropriate compiler flags.\n",
            "2023-06-09 19:47:58.898438: W tensorflow/compiler/tf2tensorrt/utils/py_utils.cc:38] TF-TRT Warning: Could not find TensorRT\n",
            "Loading Data sets...\n",
            "training samples: 4388, validation samples: 2845, testing samples: 11394\n",
            "Creating Dataloader...\n",
            "Initialing SITS-BERT...\n",
            "Loading pre-trained model parameters...\n",
            "Creating Downstream Task Trainer...\n",
            "Fine-tuning SITS-BERT...\n",
            "EP0, train_OA=71.22, train_Kappa=0.268, validate_OA=12.34, validate_Kappa=0.060\n",
            "EP:0 Model Saved on: /content/SITS-BERT/checkpoints/finetune/checkpoint.tar\n",
            "EP1, train_OA=97.63, train_Kappa=0.939, validate_OA=14.80, validate_Kappa=0.037\n",
            "EP:1 Model Saved on: /content/SITS-BERT/checkpoints/finetune/checkpoint.tar\n",
            "EP2, train_OA=99.61, train_Kappa=0.990, validate_OA=14.09, validate_Kappa=0.027\n",
            "EP3, train_OA=99.89, train_Kappa=0.997, validate_OA=13.92, validate_Kappa=0.024\n",
            "EP4, train_OA=99.91, train_Kappa=0.998, validate_OA=13.88, validate_Kappa=0.023\n",
            "EP5, train_OA=99.93, train_Kappa=0.998, validate_OA=14.27, validate_Kappa=0.027\n",
            "EP6, train_OA=99.95, train_Kappa=0.999, validate_OA=14.38, validate_Kappa=0.028\n",
            "EP7, train_OA=100.00, train_Kappa=1.000, validate_OA=14.27, validate_Kappa=0.027\n",
            "EP8, train_OA=100.00, train_Kappa=1.000, validate_OA=14.34, validate_Kappa=0.027\n",
            "EP9, train_OA=100.00, train_Kappa=1.000, validate_OA=14.17, validate_Kappa=0.027\n",
            "EP10, train_OA=100.00, train_Kappa=1.000, validate_OA=14.09, validate_Kappa=0.026\n",
            "EP11, train_OA=100.00, train_Kappa=1.000, validate_OA=14.06, validate_Kappa=0.025\n",
            "EP12, train_OA=100.00, train_Kappa=1.000, validate_OA=13.78, validate_Kappa=0.023\n",
            "EP13, train_OA=100.00, train_Kappa=1.000, validate_OA=13.81, validate_Kappa=0.023\n",
            "EP14, train_OA=100.00, train_Kappa=1.000, validate_OA=13.64, validate_Kappa=0.023\n",
            "EP15, train_OA=100.00, train_Kappa=1.000, validate_OA=13.78, validate_Kappa=0.023\n",
            "EP16, train_OA=100.00, train_Kappa=1.000, validate_OA=13.71, validate_Kappa=0.022\n",
            "EP17, train_OA=100.00, train_Kappa=1.000, validate_OA=13.57, validate_Kappa=0.021\n",
            "EP18, train_OA=100.00, train_Kappa=1.000, validate_OA=13.43, validate_Kappa=0.021\n",
            "EP19, train_OA=100.00, train_Kappa=1.000, validate_OA=13.53, validate_Kappa=0.022\n",
            "EP20, train_OA=100.00, train_Kappa=1.000, validate_OA=13.46, validate_Kappa=0.019\n",
            "EP21, train_OA=100.00, train_Kappa=1.000, validate_OA=13.43, validate_Kappa=0.019\n",
            "EP22, train_OA=100.00, train_Kappa=1.000, validate_OA=13.36, validate_Kappa=0.018\n",
            "EP23, train_OA=100.00, train_Kappa=1.000, validate_OA=13.64, validate_Kappa=0.018\n",
            "EP24, train_OA=100.00, train_Kappa=1.000, validate_OA=13.57, validate_Kappa=0.017\n",
            "EP25, train_OA=100.00, train_Kappa=1.000, validate_OA=13.64, validate_Kappa=0.018\n",
            "EP26, train_OA=100.00, train_Kappa=1.000, validate_OA=13.50, validate_Kappa=0.018\n",
            "EP27, train_OA=100.00, train_Kappa=1.000, validate_OA=13.36, validate_Kappa=0.018\n",
            "EP28, train_OA=100.00, train_Kappa=1.000, validate_OA=13.36, validate_Kappa=0.018\n",
            "EP29, train_OA=100.00, train_Kappa=1.000, validate_OA=13.36, validate_Kappa=0.017\n",
            "EP30, train_OA=100.00, train_Kappa=1.000, validate_OA=13.32, validate_Kappa=0.017\n",
            "EP31, train_OA=100.00, train_Kappa=1.000, validate_OA=13.32, validate_Kappa=0.016\n",
            "EP32, train_OA=100.00, train_Kappa=1.000, validate_OA=13.32, validate_Kappa=0.016\n",
            "EP33, train_OA=100.00, train_Kappa=1.000, validate_OA=13.32, validate_Kappa=0.017\n",
            "EP34, train_OA=100.00, train_Kappa=1.000, validate_OA=13.36, validate_Kappa=0.017\n",
            "EP35, train_OA=100.00, train_Kappa=1.000, validate_OA=13.32, validate_Kappa=0.016\n",
            "EP36, train_OA=100.00, train_Kappa=1.000, validate_OA=13.25, validate_Kappa=0.015\n",
            "EP37, train_OA=100.00, train_Kappa=1.000, validate_OA=13.29, validate_Kappa=0.015\n",
            "EP38, train_OA=100.00, train_Kappa=1.000, validate_OA=13.32, validate_Kappa=0.015\n",
            "EP39, train_OA=100.00, train_Kappa=1.000, validate_OA=13.29, validate_Kappa=0.014\n",
            "EP40, train_OA=100.00, train_Kappa=1.000, validate_OA=13.29, validate_Kappa=0.014\n",
            "EP41, train_OA=100.00, train_Kappa=1.000, validate_OA=13.22, validate_Kappa=0.015\n",
            "EP42, train_OA=100.00, train_Kappa=1.000, validate_OA=13.32, validate_Kappa=0.014\n",
            "EP43, train_OA=100.00, train_Kappa=1.000, validate_OA=13.39, validate_Kappa=0.014\n",
            "EP44, train_OA=100.00, train_Kappa=1.000, validate_OA=13.39, validate_Kappa=0.014\n",
            "EP45, train_OA=100.00, train_Kappa=1.000, validate_OA=13.36, validate_Kappa=0.014\n",
            "EP46, train_OA=100.00, train_Kappa=1.000, validate_OA=13.29, validate_Kappa=0.013\n",
            "EP47, train_OA=100.00, train_Kappa=1.000, validate_OA=13.29, validate_Kappa=0.014\n",
            "EP48, train_OA=100.00, train_Kappa=1.000, validate_OA=13.11, validate_Kappa=0.015\n",
            "EP49, train_OA=100.00, train_Kappa=1.000, validate_OA=13.15, validate_Kappa=0.014\n",
            "EP50, train_OA=100.00, train_Kappa=1.000, validate_OA=13.15, validate_Kappa=0.014\n",
            "EP51, train_OA=100.00, train_Kappa=1.000, validate_OA=13.15, validate_Kappa=0.014\n",
            "EP52, train_OA=100.00, train_Kappa=1.000, validate_OA=13.39, validate_Kappa=0.013\n",
            "EP53, train_OA=100.00, train_Kappa=1.000, validate_OA=13.39, validate_Kappa=0.014\n",
            "EP54, train_OA=100.00, train_Kappa=1.000, validate_OA=13.39, validate_Kappa=0.014\n",
            "EP55, train_OA=100.00, train_Kappa=1.000, validate_OA=13.36, validate_Kappa=0.013\n",
            "EP56, train_OA=100.00, train_Kappa=1.000, validate_OA=13.32, validate_Kappa=0.013\n",
            "EP57, train_OA=100.00, train_Kappa=1.000, validate_OA=13.22, validate_Kappa=0.013\n",
            "EP58, train_OA=100.00, train_Kappa=1.000, validate_OA=13.22, validate_Kappa=0.013\n",
            "EP59, train_OA=100.00, train_Kappa=1.000, validate_OA=13.22, validate_Kappa=0.013\n",
            "EP60, train_OA=100.00, train_Kappa=1.000, validate_OA=13.43, validate_Kappa=0.012\n",
            "EP61, train_OA=100.00, train_Kappa=1.000, validate_OA=13.43, validate_Kappa=0.012\n",
            "EP62, train_OA=100.00, train_Kappa=1.000, validate_OA=13.46, validate_Kappa=0.012\n",
            "EP63, train_OA=100.00, train_Kappa=1.000, validate_OA=13.46, validate_Kappa=0.012\n",
            "EP64, train_OA=100.00, train_Kappa=1.000, validate_OA=13.43, validate_Kappa=0.012\n",
            "EP65, train_OA=100.00, train_Kappa=1.000, validate_OA=13.39, validate_Kappa=0.012\n",
            "EP66, train_OA=100.00, train_Kappa=1.000, validate_OA=13.39, validate_Kappa=0.012\n",
            "EP67, train_OA=100.00, train_Kappa=1.000, validate_OA=13.36, validate_Kappa=0.012\n",
            "EP68, train_OA=100.00, train_Kappa=1.000, validate_OA=13.36, validate_Kappa=0.011\n",
            "EP69, train_OA=100.00, train_Kappa=1.000, validate_OA=13.43, validate_Kappa=0.012\n",
            "EP70, train_OA=100.00, train_Kappa=1.000, validate_OA=13.39, validate_Kappa=0.012\n",
            "EP71, train_OA=100.00, train_Kappa=1.000, validate_OA=13.39, validate_Kappa=0.011\n",
            "EP72, train_OA=100.00, train_Kappa=1.000, validate_OA=13.36, validate_Kappa=0.011\n",
            "EP73, train_OA=100.00, train_Kappa=1.000, validate_OA=13.32, validate_Kappa=0.011\n",
            "EP74, train_OA=100.00, train_Kappa=1.000, validate_OA=13.32, validate_Kappa=0.011\n",
            "EP75, train_OA=100.00, train_Kappa=1.000, validate_OA=13.32, validate_Kappa=0.011\n",
            "EP76, train_OA=100.00, train_Kappa=1.000, validate_OA=13.25, validate_Kappa=0.011\n",
            "EP77, train_OA=100.00, train_Kappa=1.000, validate_OA=13.25, validate_Kappa=0.011\n",
            "EP78, train_OA=100.00, train_Kappa=1.000, validate_OA=13.25, validate_Kappa=0.011\n",
            "EP79, train_OA=100.00, train_Kappa=1.000, validate_OA=13.25, validate_Kappa=0.011\n",
            "EP80, train_OA=100.00, train_Kappa=1.000, validate_OA=13.22, validate_Kappa=0.011\n",
            "EP81, train_OA=100.00, train_Kappa=1.000, validate_OA=13.22, validate_Kappa=0.011\n",
            "EP82, train_OA=100.00, train_Kappa=1.000, validate_OA=13.08, validate_Kappa=0.011\n",
            "EP83, train_OA=100.00, train_Kappa=1.000, validate_OA=13.04, validate_Kappa=0.011\n",
            "EP84, train_OA=100.00, train_Kappa=1.000, validate_OA=13.08, validate_Kappa=0.011\n",
            "EP85, train_OA=100.00, train_Kappa=1.000, validate_OA=13.15, validate_Kappa=0.011\n",
            "EP86, train_OA=100.00, train_Kappa=1.000, validate_OA=13.15, validate_Kappa=0.011\n",
            "EP87, train_OA=100.00, train_Kappa=1.000, validate_OA=13.15, validate_Kappa=0.011\n",
            "EP88, train_OA=100.00, train_Kappa=1.000, validate_OA=13.15, validate_Kappa=0.011\n",
            "EP89, train_OA=100.00, train_Kappa=1.000, validate_OA=13.15, validate_Kappa=0.010\n",
            "EP90, train_OA=100.00, train_Kappa=1.000, validate_OA=13.15, validate_Kappa=0.010\n",
            "EP91, train_OA=100.00, train_Kappa=1.000, validate_OA=13.32, validate_Kappa=0.011\n",
            "EP92, train_OA=100.00, train_Kappa=1.000, validate_OA=13.29, validate_Kappa=0.011\n",
            "EP93, train_OA=100.00, train_Kappa=1.000, validate_OA=13.32, validate_Kappa=0.011\n",
            "EP94, train_OA=100.00, train_Kappa=1.000, validate_OA=13.32, validate_Kappa=0.011\n",
            "EP95, train_OA=100.00, train_Kappa=1.000, validate_OA=13.29, validate_Kappa=0.011\n",
            "EP96, train_OA=100.00, train_Kappa=1.000, validate_OA=13.25, validate_Kappa=0.010\n",
            "EP97, train_OA=100.00, train_Kappa=1.000, validate_OA=13.29, validate_Kappa=0.011\n",
            "EP98, train_OA=100.00, train_Kappa=1.000, validate_OA=13.32, validate_Kappa=0.011\n",
            "EP99, train_OA=100.00, train_Kappa=1.000, validate_OA=13.25, validate_Kappa=0.010\n",
            "\n",
            "\n",
            "\n",
            "\n",
            "Testing SITS-BERT...\n",
            "EP:1 Model loaded from: /content/SITS-BERT/checkpoints/finetune/checkpoint.tar\n",
            "/content/SITS-BERT/code/trainer/finetune.py:26: RuntimeWarning: invalid value encountered in true_divide\n",
            "  accuracy = correct / all\n",
            "test_OA = 19.06, test_kappa = 0.118, test_AA = nan\n"
          ]
        }
      ],
      "source": [
        "#finetune experimental\n",
        "!python /content/SITS-BERT/code/finetuning.py \\\n",
        "    --file_path '/content/datset_bert/' \\\n",
        "    --pretrain_path '/content/SITS-BERT/checkpoints/pretrain/' \\\n",
        "    --finetune_path '/content/SITS-BERT/checkpoints/finetune/' \\\n",
        "    --max_length 64 \\\n",
        "    --num_features 10 \\\n",
        "    --num_classes 13 \\\n",
        "    --epochs 100 \\\n",
        "    --batch_size 128 \\\n",
        "    --hidden_size 256 \\\n",
        "    --layers 3 \\\n",
        "    --attn_heads 8 \\\n",
        "    --learning_rate 2e-4 \\\n",
        "    --dropout 0.1\n"
      ]
    },
    {
      "cell_type": "code",
      "execution_count": null,
      "metadata": {
        "id": "1L5u6_3-ocdc"
      },
      "outputs": [],
      "source": [
        "####################### Em desenvolvimento ####################################\n",
        "!python /content/SITS-BERT/code/inference.py \\\n",
        "    --file_path '/content/California-Labeled/' \\\n",
        "    --finetune_path '/content/SITS-BERT/checkpoints/finetune/' \\\n",
        "    --pretrain_path '/content/SITS-BERT/checkpoints/pretrain/' \\\n",
        "    --max_length 64 \\\n",
        "    --num_features 10 \\\n",
        "    --num_classes 13 \\\n",
        "    --epochs 100 \\\n",
        "    --batch_size 128 \\\n",
        "    --hidden_size 256 \\\n",
        "    --layers 3 \\\n",
        "    --attn_heads 8 \\\n",
        "    --learning_rate 2e-4 \\\n",
        "    --dropout 0.1\n",
        "\n",
        "# removido\n",
        "#    --pretrain_path '/content/SITS-BERT/checkpoints/pretrain/' \\"
      ]
    },
    {
      "cell_type": "code",
      "execution_count": null,
      "metadata": {
        "id": "rCO3yWnKRr2g"
      },
      "outputs": [],
      "source": [
        "!python /content/SITS-BERT/code/pretraining.py \\\n",
        "    --dataset_path '../data/California-Unlabeled/Pre-Training-Data.csv' \\\n",
        "    --pretrain_path '../checkpoints/pretrain/' \\\n",
        "    --valid_rate 0.03 \\\n",
        "    --max_length 64 \\\n",
        "    --num_features 10 \\\n",
        "    --epochs 100 \\\n",
        "    --batch_size 256 \\\n",
        "    --hidden_size 256 \\\n",
        "    --layers 3 \\\n",
        "    --attn_heads 8 \\\n",
        "    --learning_rate 1e-4 \\\n",
        "    --warmup_epochs 10 \\\n",
        "    --decay_gamma 0.99 \\\n",
        "    --dropout 0.1 \\\n",
        "    --gradient_clipping 5.0"
      ]
    }
  ],
  "metadata": {
    "accelerator": "GPU",
    "colab": {
      "collapsed_sections": [
        "9AB2eG9MWNI6"
      ],
      "provenance": [],
      "mount_file_id": "1IQBGXvOYzDVaWy0Zpv_12G6zVSHZF24F",
      "authorship_tag": "ABX9TyPjCjaTKYTBpob0f1cR7Mi7",
      "include_colab_link": true
    },
    "kernelspec": {
      "display_name": "Python 3",
      "name": "python3"
    },
    "language_info": {
      "name": "python"
    }
  },
  "nbformat": 4,
  "nbformat_minor": 0
}